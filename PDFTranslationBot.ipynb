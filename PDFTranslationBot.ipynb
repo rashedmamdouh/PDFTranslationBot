{
  "cells": [
    {
      "cell_type": "code",
      "execution_count": null,
      "metadata": {
        "colab": {
          "base_uri": "https://localhost:8080/",
          "height": 106
        },
        "id": "3abC0XS7MJrC",
        "outputId": "145ab731-5a6c-417e-f0c9-116bf34f0358"
      },
      "outputs": [
        {
          "ename": "SyntaxError",
          "evalue": "invalid decimal literal (<ipython-input-3-6ba254ee07e1>, line 4)",
          "output_type": "error",
          "traceback": [
            "\u001b[0;36m  File \u001b[0;32m\"<ipython-input-3-6ba254ee07e1>\"\u001b[0;36m, line \u001b[0;32m4\u001b[0m\n\u001b[0;31m    1pip install telebot\u001b[0m\n\u001b[0m    ^\u001b[0m\n\u001b[0;31mSyntaxError\u001b[0m\u001b[0;31m:\u001b[0m invalid decimal literal\n"
          ]
        }
      ],
      "source": [
        "!pip install pdfplumber\n",
        "!pip install deep_translator\n",
        "!pip install fpdf\n",
        "!pip install telebot"
      ]
    },
    {
      "cell_type": "code",
      "execution_count": null,
      "metadata": {
        "colab": {
          "base_uri": "https://localhost:8080/"
        },
        "id": "k8eZUgPAdf1Z",
        "outputId": "71dcf0db-4c95-4a2f-a69b-64bdc26a0a89"
      },
      "outputs": [
        {
          "name": "stderr",
          "output_type": "stream",
          "text": [
            "[nltk_data] Downloading package punkt to /root/nltk_data...\n",
            "[nltk_data]   Unzipping tokenizers/punkt.zip.\n"
          ]
        }
      ],
      "source": [
        "from deep_translator import GoogleTranslator\n",
        "import pdfplumber\n",
        "import telebot\n",
        "from nltk.tokenize import sent_tokenize\n",
        "from fpdf import FPDF\n",
        "import nltk\n",
        "nltk.download('punkt')\n",
        "from telebot.types import InlineKeyboardMarkup, InlineKeyboardButton"
      ]
    },
    {
      "cell_type": "code",
      "execution_count": null,
      "metadata": {
        "id": "0Mx1HVNndFY2"
      },
      "outputs": [],
      "source": [
        "def extract(page):\n",
        "    \"\"\"Extract PDF text and Delete in-paragraph line breaks.\"\"\"\n",
        "    # Get text\n",
        "    extracted = page.extract_text()\n",
        "    # Delete in-paragraph line breaks\n",
        "    extracted = extracted.replace(\".\\n\", \"**/m\" # keep par breaks\n",
        "                        ).replace(\". \\n\", \"**/m\" # keep par breaks\n",
        "                        ).replace(\"\\n\", \"\" # delete in-par breaks\n",
        "                        ).replace(\"**/m\", \".\\n\\n\") # restore par break\n",
        "    return extracted"
      ]
    },
    {
      "cell_type": "code",
      "execution_count": null,
      "metadata": {
        "id": "qbkH_lsROe3X"
      },
      "outputs": [],
      "source": [
        "def translate_extracted(Extracted):\n",
        "    \"\"\"Wrapper for Google Translate with upload workaround.\"\"\"\n",
        "    # Set-up and wrap translation client\n",
        "    translate = GoogleTranslator(source='auto', target='en').translate\n",
        "    # Split input text into a list of sentences\n",
        "    sentences = sent_tokenize(Extracted)\n",
        "    # Initialize containers\n",
        "    translated_text = ''\n",
        "    source_text_chunk = ''\n",
        "    # collect chunks of sentences, translate individually\n",
        "    for sentence in sentences:\n",
        "        # if chunk + current sentence < limit, add the sentence\n",
        "        if ((len(sentence.encode('utf-8')) +  len(source_text_chunk.encode('utf-8')) < 5000)):\n",
        "            source_text_chunk += ' ' + sentence\n",
        "        # else translate chunk and start new one with current sentence\n",
        "        else:\n",
        "            translated_text += ' ' + translate(source_text_chunk)\n",
        "        # if current sentence smaller than 5000 chars, start new chunk\n",
        "        if (len(sentence.encode('utf-8')) < 5000):\n",
        "            source_text_chunk = sentence\n",
        "        # else, replace sentence with notification message\n",
        "        else:\n",
        "            message = \"<<Omitted Word longer than 5000bytes>>\"\n",
        "            translated_text += ' ' + translate(message)\n",
        "            # Re-set text container to empty\n",
        "            source_text_chunk = ''\n",
        "    # Translate the final chunk of input text, if there is any valid text left to translate\n",
        "    if translate(source_text_chunk) != None:\n",
        "        translated_text += ' ' + translate(source_text_chunk)\n",
        "    return translated_text"
      ]
    },
    {
      "cell_type": "code",
      "execution_count": null,
      "metadata": {
        "id": "AL9khS2zME6T"
      },
      "outputs": [],
      "source": [
        "# Initialize the bot with the bot's token\n",
        "bot = telebot.TeleBot(\"Token\")\n",
        "\n",
        "def translate_text(text):\n",
        "    translator = GoogleTranslator(source='auto', target='ar')\n",
        "    translated_text = translator.translate(text)\n",
        "    return translated_text\n",
        "\n",
        "# Define the extraction function\n",
        "def extract(page):\n",
        "    \"\"\"Extract PDF text and Delete in-paragraph line breaks.\"\"\"\n",
        "    # Get text\n",
        "    extracted = page.extract_text()\n",
        "    # Delete in-paragraph line breaks\n",
        "    extracted = extracted.replace(\".\\n\", \"**/m\" # keep par breaks\n",
        "                        ).replace(\". \\n\", \"**/m\" # keep par breaks\n",
        "                        ).replace(\"\\n\", \"\" # delete in-par breaks\n",
        "                        ).replace(\"**/m\", \".\\n\\n\") # restore par break\n",
        "    return extracted\n",
        "\n",
        "# Handler for the /start command\n",
        "@bot.message_handler(commands=['start'])\n",
        "def send_welcome(message):\n",
        "    bot.reply_to(message, \"Welcome to the PDF Translator bot! Send me a PDF file.\")\n",
        "\n",
        "# Handler for messages containing PDF files\n",
        "@bot.message_handler(content_types=['document'])\n",
        "def handle_pdf(message):\n",
        "    #sent PDF\n",
        "    if message.document.mime_type == 'application/pdf':\n",
        "        file_info = bot.get_file(message.document.file_id)\n",
        "        downloaded_file = bot.download_file(file_info.file_path)\n",
        "\n",
        "        #save sent PDF\n",
        "        with open('input.pdf', 'wb') as new_file:\n",
        "            new_file.write(downloaded_file)\n",
        "\n",
        "        # Create a choice menu\n",
        "        keyboard = InlineKeyboardMarkup()\n",
        "        keyboard.row_width = 2\n",
        "        text_button = InlineKeyboardButton(\"Text\", callback_data='text')\n",
        "        pdf_button = InlineKeyboardButton(\"PDF\", callback_data='pdf')\n",
        "        keyboard.add(text_button, pdf_button)\n",
        "\n",
        "        bot.send_message(message.chat.id, \"Choose output format:\", reply_markup=keyboard)\n",
        "    else:\n",
        "        bot.reply_to(message, \"Please send a PDF file.\")\n",
        "\n",
        "# Handler for callback queries (i.e., when the user clicks on a button)\n",
        "@bot.callback_query_handler(func=lambda call: True)\n",
        "def callback_handler(call):\n",
        "    if call.data == 'text':\n",
        "        # Translate the PDF and send back the translated text\n",
        "        translated_text = \"\"\n",
        "        with pdfplumber.open('input.pdf') as pdf:\n",
        "            for page in pdf.pages:\n",
        "                # Extract Page\n",
        "                extracted = extract(page)\n",
        "                # Translate Page\n",
        "                translated_text += translate_text(extracted) + \"\\n\\n\"\n",
        "\n",
        "        with open('output.txt', 'w') as output_file:\n",
        "            output_file.write(translated_text)\n",
        "        # Send the text file\n",
        "        bot.send_document(call.message.chat.id, open('output.txt', 'rb'))\n",
        "\n",
        "    elif call.data == 'pdf':\n",
        "        # Translate the PDF and send back a PDF file\n",
        "        translated_text = \"\"\n",
        "        with pdfplumber.open('input.pdf') as pdf:\n",
        "            for page in pdf.pages:\n",
        "                # Extract Page\n",
        "                extracted = extract(page)\n",
        "                # Translate Page\n",
        "                translated_text += translate_text(extracted) + \"\\n\\n\"\n",
        "\n",
        "        with open('output.pdf', 'w') as output_file:\n",
        "            output_file.write(translated_text)\n",
        "\n",
        "        bot.send_document(call.message.chat.id, open('output.pdf', 'rb'))\n",
        "\n",
        "# Start the bot\n",
        "bot.polling()"
      ]
    }
  ],
  "metadata": {
    "colab": {
      "provenance": []
    },
    "kernelspec": {
      "display_name": "Python 3",
      "name": "python3"
    },
    "language_info": {
      "name": "python"
    }
  },
  "nbformat": 4,
  "nbformat_minor": 0
}
